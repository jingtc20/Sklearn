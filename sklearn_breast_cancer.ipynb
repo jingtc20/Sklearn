{
  "nbformat": 4,
  "nbformat_minor": 0,
  "metadata": {
    "colab": {
      "name": "sklearn_breast_cancer.ipynb",
      "provenance": [],
      "collapsed_sections": []
    },
    "kernelspec": {
      "name": "python3",
      "display_name": "Python 3"
    },
    "language_info": {
      "name": "python"
    }
  },
  "cells": [
    {
      "cell_type": "code",
      "metadata": {
        "id": "KTH65cf6lUNG"
      },
      "source": [
        "from sklearn import datasets\n",
        "import pandas as pd\n",
        "import numpy as np\n",
        "import matplotlib.pyplot as plt\n",
        "from sklearn.model_selection import train_test_split \n",
        "from sklearn.preprocessing import StandardScaler\n",
        "from sklearn.linear_model import LogisticRegression"
      ],
      "execution_count": 267,
      "outputs": []
    },
    {
      "cell_type": "code",
      "metadata": {
        "colab": {
          "base_uri": "https://localhost:8080/"
        },
        "id": "4Mj1BLhHlYLU",
        "outputId": "273ce43a-b85d-4229-f4de-71305f89aa45"
      },
      "source": [
        "data_set = datasets.load_breast_cancer()\n",
        "X=data_set.data\n",
        "y=data_set.target\n",
        "print(data_set.target_names)\n",
        "data_set.keys()"
      ],
      "execution_count": 268,
      "outputs": [
        {
          "output_type": "stream",
          "text": [
            "['malignant' 'benign']\n"
          ],
          "name": "stdout"
        },
        {
          "output_type": "execute_result",
          "data": {
            "text/plain": [
              "dict_keys(['data', 'target', 'target_names', 'DESCR', 'feature_names', 'filename'])"
            ]
          },
          "metadata": {
            "tags": []
          },
          "execution_count": 268
        }
      ]
    },
    {
      "cell_type": "code",
      "metadata": {
        "colab": {
          "base_uri": "https://localhost:8080/",
          "height": 215
        },
        "id": "cEneDo18zXtf",
        "outputId": "30740e42-d0f8-4b61-99f3-dc39fd1ba5ac"
      },
      "source": [
        "# create a dataframe for the data_set\n",
        "df = pd.DataFrame()\n",
        "print(data_set['data'].shape)\n",
        "df['data'] = data_set['data'].tolist()\n",
        "df['target'] = data_set['target']\n",
        "df.head()"
      ],
      "execution_count": 269,
      "outputs": [
        {
          "output_type": "stream",
          "text": [
            "(569, 30)\n"
          ],
          "name": "stdout"
        },
        {
          "output_type": "execute_result",
          "data": {
            "text/html": [
              "<div>\n",
              "<style scoped>\n",
              "    .dataframe tbody tr th:only-of-type {\n",
              "        vertical-align: middle;\n",
              "    }\n",
              "\n",
              "    .dataframe tbody tr th {\n",
              "        vertical-align: top;\n",
              "    }\n",
              "\n",
              "    .dataframe thead th {\n",
              "        text-align: right;\n",
              "    }\n",
              "</style>\n",
              "<table border=\"1\" class=\"dataframe\">\n",
              "  <thead>\n",
              "    <tr style=\"text-align: right;\">\n",
              "      <th></th>\n",
              "      <th>data</th>\n",
              "      <th>target</th>\n",
              "    </tr>\n",
              "  </thead>\n",
              "  <tbody>\n",
              "    <tr>\n",
              "      <th>0</th>\n",
              "      <td>[17.99, 10.38, 122.8, 1001.0, 0.1184, 0.2776, ...</td>\n",
              "      <td>0</td>\n",
              "    </tr>\n",
              "    <tr>\n",
              "      <th>1</th>\n",
              "      <td>[20.57, 17.77, 132.9, 1326.0, 0.08474, 0.07864...</td>\n",
              "      <td>0</td>\n",
              "    </tr>\n",
              "    <tr>\n",
              "      <th>2</th>\n",
              "      <td>[19.69, 21.25, 130.0, 1203.0, 0.1096, 0.1599, ...</td>\n",
              "      <td>0</td>\n",
              "    </tr>\n",
              "    <tr>\n",
              "      <th>3</th>\n",
              "      <td>[11.42, 20.38, 77.58, 386.1, 0.1425, 0.2839, 0...</td>\n",
              "      <td>0</td>\n",
              "    </tr>\n",
              "    <tr>\n",
              "      <th>4</th>\n",
              "      <td>[20.29, 14.34, 135.1, 1297.0, 0.1003, 0.1328, ...</td>\n",
              "      <td>0</td>\n",
              "    </tr>\n",
              "  </tbody>\n",
              "</table>\n",
              "</div>"
            ],
            "text/plain": [
              "                                                data  target\n",
              "0  [17.99, 10.38, 122.8, 1001.0, 0.1184, 0.2776, ...       0\n",
              "1  [20.57, 17.77, 132.9, 1326.0, 0.08474, 0.07864...       0\n",
              "2  [19.69, 21.25, 130.0, 1203.0, 0.1096, 0.1599, ...       0\n",
              "3  [11.42, 20.38, 77.58, 386.1, 0.1425, 0.2839, 0...       0\n",
              "4  [20.29, 14.34, 135.1, 1297.0, 0.1003, 0.1328, ...       0"
            ]
          },
          "metadata": {
            "tags": []
          },
          "execution_count": 269
        }
      ]
    },
    {
      "cell_type": "code",
      "metadata": {
        "colab": {
          "base_uri": "https://localhost:8080/"
        },
        "id": "MdQb2gQtm9Gc",
        "outputId": "099611ba-0128-4f59-a086-9e0cef24636b"
      },
      "source": [
        "X_train, X_test, y_train, y_test = train_test_split(X, y, test_size=0.25, random_state=0)\n",
        "sc = StandardScaler()\n",
        "# sc.fit(X_train)\n",
        "sc.fit(X)\n",
        "X_train_std = sc.transform(X_train)\n",
        "X_test_std = sc.transform(X_test)\n",
        "print('Number of total data is:, ', len(X))\n",
        "print('Number of train data is:, ', len(X_train_std))\n",
        "print('Number of test data is:, ', len(X_test_std))"
      ],
      "execution_count": 270,
      "outputs": [
        {
          "output_type": "stream",
          "text": [
            "Number of total data is:,  569\n",
            "Number of train data is:,  426\n",
            "Number of test data is:,  143\n"
          ],
          "name": "stdout"
        }
      ]
    },
    {
      "cell_type": "code",
      "metadata": {
        "colab": {
          "base_uri": "https://localhost:8080/"
        },
        "id": "1lBZmzCqb-M_",
        "outputId": "e782ec32-da1c-4865-caef-d6387118869c"
      },
      "source": [
        "clf = LogisticRegression().fit(X_train_std, y_train)\n",
        "y_pred_train=clf.predict(X_train_std)\n",
        "print((y_train==y_pred_train).sum())\n",
        "accuracy=((y_train==y_pred_train).sum()/len(X_train_std))\n",
        "print(accuracy)\n",
        "clf.score(X_train_std, y_train)"
      ],
      "execution_count": 271,
      "outputs": [
        {
          "output_type": "stream",
          "text": [
            "422\n",
            "0.9906103286384976\n"
          ],
          "name": "stdout"
        },
        {
          "output_type": "execute_result",
          "data": {
            "text/plain": [
              "0.9906103286384976"
            ]
          },
          "metadata": {
            "tags": []
          },
          "execution_count": 271
        }
      ]
    },
    {
      "cell_type": "code",
      "metadata": {
        "colab": {
          "base_uri": "https://localhost:8080/"
        },
        "id": "5Digpg65c1k3",
        "outputId": "70f94288-1a90-4d01-a801-34d34ddcd45d"
      },
      "source": [
        "y_pred_test=clf.predict(X_test_std)\n",
        "print((y_test==y_pred_test).sum())\n",
        "accuracy_test=((y_test==y_pred_test).sum()/len(X_test_std))\n",
        "print(accuracy_test)\n",
        "clf.score(X_test_std, y_test)"
      ],
      "execution_count": 272,
      "outputs": [
        {
          "output_type": "stream",
          "text": [
            "138\n",
            "0.965034965034965\n"
          ],
          "name": "stdout"
        },
        {
          "output_type": "execute_result",
          "data": {
            "text/plain": [
              "0.965034965034965"
            ]
          },
          "metadata": {
            "tags": []
          },
          "execution_count": 272
        }
      ]
    },
    {
      "cell_type": "code",
      "metadata": {
        "colab": {
          "base_uri": "https://localhost:8080/"
        },
        "id": "gZPV32tG5ijj",
        "outputId": "d47522a4-161c-47dc-8f5f-2795699b5675"
      },
      "source": [
        "y_pred_test_prob = clf.predict_proba(X_test_std)\n",
        "y_pred_test_prob[:5]"
      ],
      "execution_count": 273,
      "outputs": [
        {
          "output_type": "execute_result",
          "data": {
            "text/plain": [
              "array([[9.98628887e-01, 1.37111295e-03],\n",
              "       [3.83536656e-02, 9.61646334e-01],\n",
              "       [1.27259797e-03, 9.98727402e-01],\n",
              "       [1.24727859e-02, 9.87527214e-01],\n",
              "       [2.18215888e-04, 9.99781784e-01]])"
            ]
          },
          "metadata": {
            "tags": []
          },
          "execution_count": 273
        }
      ]
    },
    {
      "cell_type": "code",
      "metadata": {
        "colab": {
          "base_uri": "https://localhost:8080/",
          "height": 197
        },
        "id": "7zMdT_gaehvz",
        "outputId": "559c9340-1c14-402c-ad37-93ce9eb568bd"
      },
      "source": [
        "prediction = pd.DataFrame()\n",
        "prediction['test_data'] = X_test_std.tolist()\n",
        "prediction['actual'] = data_set.target_names[y_test]\n",
        "prediction['predicted'] = data_set.target_names[y_pred_test]\n",
        "prediction['correct'] = prediction['actual'] == prediction['predicted']\n",
        "prediction['prob'] = y_pred_test_prob.tolist()\n",
        "prediction['prob'] = prediction['prob'].apply(lambda x: max(x))\n",
        "prediction.head()\n"
      ],
      "execution_count": 274,
      "outputs": [
        {
          "output_type": "execute_result",
          "data": {
            "text/html": [
              "<div>\n",
              "<style scoped>\n",
              "    .dataframe tbody tr th:only-of-type {\n",
              "        vertical-align: middle;\n",
              "    }\n",
              "\n",
              "    .dataframe tbody tr th {\n",
              "        vertical-align: top;\n",
              "    }\n",
              "\n",
              "    .dataframe thead th {\n",
              "        text-align: right;\n",
              "    }\n",
              "</style>\n",
              "<table border=\"1\" class=\"dataframe\">\n",
              "  <thead>\n",
              "    <tr style=\"text-align: right;\">\n",
              "      <th></th>\n",
              "      <th>test_data</th>\n",
              "      <th>actual</th>\n",
              "      <th>predicted</th>\n",
              "      <th>correct</th>\n",
              "      <th>prob</th>\n",
              "    </tr>\n",
              "  </thead>\n",
              "  <tbody>\n",
              "    <tr>\n",
              "      <th>0</th>\n",
              "      <td>[-0.20656117887535716, 0.2863110515326301, -0....</td>\n",
              "      <td>malignant</td>\n",
              "      <td>malignant</td>\n",
              "      <td>True</td>\n",
              "      <td>0.998629</td>\n",
              "    </tr>\n",
              "    <tr>\n",
              "      <th>1</th>\n",
              "      <td>[-0.260523876144554, 1.3870138023481093, -0.32...</td>\n",
              "      <td>benign</td>\n",
              "      <td>benign</td>\n",
              "      <td>True</td>\n",
              "      <td>0.961646</td>\n",
              "    </tr>\n",
              "    <tr>\n",
              "      <th>2</th>\n",
              "      <td>[-0.030472377260082912, -0.8446435719268262, -...</td>\n",
              "      <td>benign</td>\n",
              "      <td>benign</td>\n",
              "      <td>True</td>\n",
              "      <td>0.998727</td>\n",
              "    </tr>\n",
              "    <tr>\n",
              "      <th>3</th>\n",
              "      <td>[0.03769102981679758, -0.2605497231854193, -0....</td>\n",
              "      <td>benign</td>\n",
              "      <td>benign</td>\n",
              "      <td>True</td>\n",
              "      <td>0.987527</td>\n",
              "    </tr>\n",
              "    <tr>\n",
              "      <th>4</th>\n",
              "      <td>[-0.31164643145221477, -0.20237304502392464, -...</td>\n",
              "      <td>benign</td>\n",
              "      <td>benign</td>\n",
              "      <td>True</td>\n",
              "      <td>0.999782</td>\n",
              "    </tr>\n",
              "  </tbody>\n",
              "</table>\n",
              "</div>"
            ],
            "text/plain": [
              "                                           test_data  ...      prob\n",
              "0  [-0.20656117887535716, 0.2863110515326301, -0....  ...  0.998629\n",
              "1  [-0.260523876144554, 1.3870138023481093, -0.32...  ...  0.961646\n",
              "2  [-0.030472377260082912, -0.8446435719268262, -...  ...  0.998727\n",
              "3  [0.03769102981679758, -0.2605497231854193, -0....  ...  0.987527\n",
              "4  [-0.31164643145221477, -0.20237304502392464, -...  ...  0.999782\n",
              "\n",
              "[5 rows x 5 columns]"
            ]
          },
          "metadata": {
            "tags": []
          },
          "execution_count": 274
        }
      ]
    },
    {
      "cell_type": "code",
      "metadata": {
        "colab": {
          "base_uri": "https://localhost:8080/",
          "height": 167
        },
        "id": "ZzGDTMAfAG7W",
        "outputId": "0f56250f-ff3b-458c-b7d5-433344c222a7"
      },
      "source": [
        "# df_result = pd.DataFrame(index=['train_malignant', 'train_benign', 'test_malignant', 'test_benign'])\n",
        "df_result = pd.DataFrame()\n",
        "df_result['data_type'] = np.array(['train_malignant', 'train_benign', 'test_malignant', 'test_benign'])\n",
        "df_result['actual_num'] = np.array([(y_train==0).sum(), (y_train==1).sum(), (y_test==0).sum(), (y_test==1).sum()])\n",
        "df_result['predicted_num'] = np.array([(y_pred_train==0).sum(), (y_pred_train==1).sum(), (y_pred_test==0).sum(), (y_pred_test==1).sum()])\n",
        "df_result"
      ],
      "execution_count": 275,
      "outputs": [
        {
          "output_type": "execute_result",
          "data": {
            "text/html": [
              "<div>\n",
              "<style scoped>\n",
              "    .dataframe tbody tr th:only-of-type {\n",
              "        vertical-align: middle;\n",
              "    }\n",
              "\n",
              "    .dataframe tbody tr th {\n",
              "        vertical-align: top;\n",
              "    }\n",
              "\n",
              "    .dataframe thead th {\n",
              "        text-align: right;\n",
              "    }\n",
              "</style>\n",
              "<table border=\"1\" class=\"dataframe\">\n",
              "  <thead>\n",
              "    <tr style=\"text-align: right;\">\n",
              "      <th></th>\n",
              "      <th>data_type</th>\n",
              "      <th>actual_num</th>\n",
              "      <th>predicted_num</th>\n",
              "    </tr>\n",
              "  </thead>\n",
              "  <tbody>\n",
              "    <tr>\n",
              "      <th>0</th>\n",
              "      <td>train_malignant</td>\n",
              "      <td>159</td>\n",
              "      <td>155</td>\n",
              "    </tr>\n",
              "    <tr>\n",
              "      <th>1</th>\n",
              "      <td>train_benign</td>\n",
              "      <td>267</td>\n",
              "      <td>271</td>\n",
              "    </tr>\n",
              "    <tr>\n",
              "      <th>2</th>\n",
              "      <td>test_malignant</td>\n",
              "      <td>53</td>\n",
              "      <td>52</td>\n",
              "    </tr>\n",
              "    <tr>\n",
              "      <th>3</th>\n",
              "      <td>test_benign</td>\n",
              "      <td>90</td>\n",
              "      <td>91</td>\n",
              "    </tr>\n",
              "  </tbody>\n",
              "</table>\n",
              "</div>"
            ],
            "text/plain": [
              "         data_type  actual_num  predicted_num\n",
              "0  train_malignant         159            155\n",
              "1     train_benign         267            271\n",
              "2   test_malignant          53             52\n",
              "3      test_benign          90             91"
            ]
          },
          "metadata": {
            "tags": []
          },
          "execution_count": 275
        }
      ]
    },
    {
      "cell_type": "code",
      "metadata": {
        "colab": {
          "base_uri": "https://localhost:8080/",
          "height": 313
        },
        "id": "39YnxxtLym0k",
        "outputId": "fc838498-bedb-440b-a2a6-a9909e99d358"
      },
      "source": [
        "df_result.plot.bar(rot=0)\n",
        "plt.xticks(range(4), labels=df_result['data_type'])\n",
        "plt.title('Result Analysis')\n",
        "plt.xlabel('Type')\n",
        "plt.ylabel('Number')"
      ],
      "execution_count": 276,
      "outputs": [
        {
          "output_type": "execute_result",
          "data": {
            "text/plain": [
              "Text(0, 0.5, 'Number')"
            ]
          },
          "metadata": {
            "tags": []
          },
          "execution_count": 276
        },
        {
          "output_type": "display_data",
          "data": {
            "image/png": "[encoded data removed]",
            "text/plain": [
              "<Figure size 432x288 with 1 Axes>"
            ]
          },
          "metadata": {
            "tags": [],
            "needs_background": "light"
          }
        }
      ]
    }
  ]
}