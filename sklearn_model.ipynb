{
  "nbformat": 4,
  "nbformat_minor": 0,
  "metadata": {
    "colab": {
      "name": "sklearn.model.ipynb",
      "provenance": []
    },
    "kernelspec": {
      "name": "python3",
      "display_name": "Python 3"
    },
    "language_info": {
      "name": "python"
    },
    "accelerator": "GPU"
  },
  "cells": [
    {
      "cell_type": "code",
      "metadata": {
        "id": "Tb_Lh4dY9cvH"
      },
      "source": [
        "import numpy as np\n",
        "import pandas as pd\n",
        "import matplotlib.pyplot as plt\n",
        "from sklearn.model_selection import train_test_split\n",
        "from sklearn import datasets\n",
        "from sklearn.linear_model import LogisticRegression, LinearRegression\n",
        "from sklearn.preprocessing import StandardScaler\n",
        "from sklearn.metrics import accuracy_score\n",
        "from sklearn.metrics import r2_score"
      ],
      "execution_count": 168,
      "outputs": []
    },
    {
      "cell_type": "code",
      "metadata": {
        "id": "RxRjlzrO9x7m"
      },
      "source": [
        "data_cancer = datasets.load_breast_cancer()\n",
        "data = data_cancer.data\n",
        "label = data_cancer.target\n",
        "train_data, test_data, train_label, test_label = train_test_split(data, label, test_size = 0.25, random_state = 0)\n",
        "sc = StandardScaler()\n",
        "sc.fit(train_data)\n",
        "train_data_std = sc.transform(train_data)\n",
        "test_data_std = sc.transform(test_data)"
      ],
      "execution_count": 169,
      "outputs": []
    },
    {
      "cell_type": "code",
      "metadata": {
        "colab": {
          "base_uri": "https://localhost:8080/"
        },
        "id": "m-2zA1Mv-JJR",
        "outputId": "347eb3fb-aadc-482c-f5e0-a1b398bf311b"
      },
      "source": [
        "logistic_model = LogisticRegression()\n",
        "logistic_model.fit(train_data_std, train_label)\n",
        "print(logistic_model.score(train_data_std, train_label))\n",
        "print(logistic_model.score(test_data_std, test_label) == accuracy_score(test_label, logistic_model.predict(test_data_std)))"
      ],
      "execution_count": 170,
      "outputs": [
        {
          "output_type": "stream",
          "text": [
            "0.9906103286384976\n",
            "True\n"
          ],
          "name": "stdout"
        }
      ]
    },
    {
      "cell_type": "code",
      "metadata": {
        "colab": {
          "base_uri": "https://localhost:8080/"
        },
        "id": "kz8GUIxe_O97",
        "outputId": "73a69496-7362-443b-8d50-6b82bae5580c"
      },
      "source": [
        "# accuracy_score is only used in classification problems, not used in regression problems\n",
        "linear_model = LinearRegression()\n",
        "linear_model.fit(train_data_std, train_label)\n",
        "print(linear_model.score(train_data_std, train_label))\n",
        "print(linear_model.score(test_data_std, test_label))"
      ],
      "execution_count": 171,
      "outputs": [
        {
          "output_type": "stream",
          "text": [
            "0.7824123695930644\n",
            "0.729175870611405\n"
          ],
          "name": "stdout"
        }
      ]
    },
    {
      "cell_type": "code",
      "metadata": {
        "colab": {
          "base_uri": "https://localhost:8080/"
        },
        "id": "euKh0FAbIwud",
        "outputId": "a655df34-2695-42e6-e0fc-0775ed7162c5"
      },
      "source": [
        "from sklearn.svm import SVC\n",
        "svm = SVC()\n",
        "svm.fit(train_data_std, train_label)\n",
        "print(svm.score(train_data_std, train_label))\n",
        "print(svm.score(test_data_std, test_label) == accuracy_score(test_label, svm.predict(test_data_std)))\n",
        "# print(np.sum(svm.predict(test_data_std) == test_label)/test_label.shape[0])"
      ],
      "execution_count": 172,
      "outputs": [
        {
          "output_type": "stream",
          "text": [
            "0.9859154929577465\n",
            "True\n"
          ],
          "name": "stdout"
        }
      ]
    },
    {
      "cell_type": "code",
      "metadata": {
        "colab": {
          "base_uri": "https://localhost:8080/"
        },
        "id": "tmE9PC5NJ5Q9",
        "outputId": "bc62658f-5386-49d7-96b9-9b92c3afcda0"
      },
      "source": [
        "# decision_tree.score is r2_score, not accuracy_score.\n",
        "from sklearn.tree import DecisionTreeRegressor\n",
        "decision_tree = DecisionTreeRegressor()\n",
        "decision_tree.fit(train_data_std, train_label)\n",
        "print(decision_tree.score(train_data_std, train_label))\n",
        "print(decision_tree.score(test_data_std, test_label))\n",
        "print(r2_score(test_label, decision_tree.predict(test_data_std)))\n",
        "print(accuracy_score(test_label, decision_tree.predict(test_data_std)))\n",
        "print(np.sum(decision_tree.predict(test_data_std) == test_label)/test_label.shape[0])"
      ],
      "execution_count": 173,
      "outputs": [
        {
          "output_type": "stream",
          "text": [
            "1.0\n",
            "0.640251572327044\n",
            "0.640251572327044\n",
            "0.916083916083916\n",
            "0.916083916083916\n"
          ],
          "name": "stdout"
        }
      ]
    },
    {
      "cell_type": "code",
      "metadata": {
        "colab": {
          "base_uri": "https://localhost:8080/"
        },
        "id": "Er8EeSRHKKpo",
        "outputId": "94bbbaf0-25aa-4891-f034-474adddb8a77"
      },
      "source": [
        "# naive_bayes.score is r2_score, not accuracy_score.\n",
        "from sklearn.naive_bayes import GaussianNB\n",
        "naive_bayes = DecisionTreeRegressor()\n",
        "naive_bayes.fit(train_data_std, train_label)\n",
        "print(naive_bayes.score(train_data_std, train_label))\n",
        "print(naive_bayes.score(test_data_std, test_label))\n",
        "print(r2_score(test_label, naive_bayes.predict(test_data_std)))\n",
        "print(accuracy_score(test_label, naive_bayes.predict(test_data_std),sample_weight = None))\n",
        "print(np.sum(naive_bayes.predict(test_data_std) == test_label)/test_label.shape[0])"
      ],
      "execution_count": 174,
      "outputs": [
        {
          "output_type": "stream",
          "text": [
            "1.0\n",
            "0.6102725366876309\n",
            "0.6102725366876309\n",
            "0.9090909090909091\n",
            "0.9090909090909091\n"
          ],
          "name": "stdout"
        }
      ]
    },
    {
      "cell_type": "code",
      "metadata": {
        "colab": {
          "base_uri": "https://localhost:8080/"
        },
        "id": "CfrAPPSxKV16",
        "outputId": "4b069959-8f3c-41ed-cbe1-0cbe44979e0a"
      },
      "source": [
        "from sklearn.neighbors import KNeighborsClassifier\n",
        "knn = KNeighborsClassifier(n_neighbors = 3)\n",
        "knn.fit(train_data_std, train_label)\n",
        "print(knn.score(train_data_std, train_label))\n",
        "print(knn.score(test_data_std, test_label) == accuracy_score(test_label, knn.predict(test_data_std)))"
      ],
      "execution_count": 175,
      "outputs": [
        {
          "output_type": "stream",
          "text": [
            "0.9835680751173709\n",
            "True\n"
          ],
          "name": "stdout"
        }
      ]
    },
    {
      "cell_type": "code",
      "metadata": {
        "colab": {
          "base_uri": "https://localhost:8080/"
        },
        "id": "ZVsqCKboRmCY",
        "outputId": "db62eeac-87b5-4b1b-ba23-7b1a6c9b1318"
      },
      "source": [
        "print(train_data_std.shape)\n",
        "print(train_label.reshape(-1,1).shape)"
      ],
      "execution_count": 176,
      "outputs": [
        {
          "output_type": "stream",
          "text": [
            "(426, 30)\n",
            "(426, 1)\n"
          ],
          "name": "stdout"
        }
      ]
    },
    {
      "cell_type": "markdown",
      "metadata": {
        "id": "NoBYecTcgp6r"
      },
      "source": [
        "tutorial about how to build binary classifier using PyTorch: https://medium.com/analytics-vidhya/pytorch-for-deep-learning-binary-classification-logistic-regression-382abd97fb43"
      ]
    },
    {
      "cell_type": "code",
      "metadata": {
        "colab": {
          "base_uri": "https://localhost:8080/"
        },
        "id": "pP5K89PCQcOs",
        "outputId": "3a621822-44de-4e51-8062-72f8cff5cf05"
      },
      "source": [
        "# binary classifier using pytorch \n",
        "import torch\n",
        "import torch.nn as nn\n",
        "class Net(nn.Module):\n",
        "  def __init__(self, input_size, out_size):\n",
        "    super(Net, self).__init__()\n",
        "    self.fc1 = nn.Linear(input_size, 64)\n",
        "    self.fc2 = nn.Linear(64, 32)\n",
        "    self.out = nn.Linear(32, out_size)\n",
        "  def forward(self, x):\n",
        "    x = torch.relu(self.fc1(x))\n",
        "    x = torch.relu(self.fc2(x))\n",
        "    x = torch.sigmoid(self.out(x))\n",
        "    return x\n",
        "input_size = train_data_std.shape[1]\n",
        "out_size = 1\n",
        "net = Net(input_size, out_size)\n",
        "lr = 0.01\n",
        "optim = torch.optim.SGD(net.parameters(), lr = lr)\n",
        "loss_f = torch.nn.MSELoss()\n",
        "train_data_std = train_data_std.astype(np.float32)\n",
        "train_label = train_label.astype(np.float32)\n",
        "\n",
        "\n",
        "losses, accuracies = [], []\n",
        "for epo in range(1000):\n",
        "  out = net(torch.from_numpy(train_data_std))\n",
        "  loss = loss_f(out, torch.from_numpy(train_label.reshape(-1,1)))\n",
        "  optim.zero_grad()\n",
        "  loss.backward()\n",
        "  optim.step()\n",
        "  pre = out.reshape(-1).detach().numpy().round()\n",
        "  target = train_label\n",
        "  accuracy = np.sum(pre == target) / target.shape[0]\n",
        "  losses.append(loss.item())\n",
        "  accuracies.append(accuracy)\n",
        "  if (epo % 100 == 0):\n",
        "    # pre = torch.max(out, 1)[1].numpy()\n",
        "    print(\"epoch {} loss: {} accuracy: {}\".format(epo, round(loss.item(), 2), round(accuracy, 2)))\n",
        "  "
      ],
      "execution_count": 177,
      "outputs": [
        {
          "output_type": "stream",
          "text": [
            "epoch 0 loss: 0.24 accuracy: 0.66\n",
            "epoch 100 loss: 0.22 accuracy: 0.73\n",
            "epoch 200 loss: 0.2 accuracy: 0.81\n",
            "epoch 300 loss: 0.18 accuracy: 0.87\n",
            "epoch 400 loss: 0.15 accuracy: 0.9\n",
            "epoch 500 loss: 0.12 accuracy: 0.92\n",
            "epoch 600 loss: 0.09 accuracy: 0.93\n",
            "epoch 700 loss: 0.08 accuracy: 0.94\n",
            "epoch 800 loss: 0.07 accuracy: 0.95\n",
            "epoch 900 loss: 0.06 accuracy: 0.95\n"
          ],
          "name": "stdout"
        }
      ]
    },
    {
      "cell_type": "code",
      "metadata": {
        "colab": {
          "base_uri": "https://localhost:8080/",
          "height": 312
        },
        "id": "91va9sSPe1T7",
        "outputId": "6c28b4bb-2e21-4219-ab3d-ef7bf4c28fea"
      },
      "source": [
        "plt.plot(losses)\n",
        "plt.title('Loss vs Epochs')\n",
        "plt.xlabel('Epoch')\n",
        "plt.ylabel('loss')"
      ],
      "execution_count": 178,
      "outputs": [
        {
          "output_type": "execute_result",
          "data": {
            "text/plain": [
              "Text(0, 0.5, 'loss')"
            ]
          },
          "metadata": {
            "tags": []
          },
          "execution_count": 178
        },
        {
          "output_type": "display_data",
          "data": {
            "image/png": "[encoded data removed]",
            "text/plain": [
              "<Figure size 432x288 with 1 Axes>"
            ]
          },
          "metadata": {
            "tags": [],
            "needs_background": "light"
          }
        }
      ]
    },
    {
      "cell_type": "code",
      "metadata": {
        "colab": {
          "base_uri": "https://localhost:8080/",
          "height": 312
        },
        "id": "qnJTTmAhe4Ml",
        "outputId": "93daaf68-c052-459b-c16a-7f4d7d76fef8"
      },
      "source": [
        "plt.plot(accuracies)\n",
        "plt.title('Accuracy vs Epochs')\n",
        "plt.xlabel('Epoch')\n",
        "plt.ylabel('Accuracy')"
      ],
      "execution_count": 179,
      "outputs": [
        {
          "output_type": "execute_result",
          "data": {
            "text/plain": [
              "Text(0, 0.5, 'Accuracy')"
            ]
          },
          "metadata": {
            "tags": []
          },
          "execution_count": 179
        },
        {
          "output_type": "display_data",
          "data": {
            "image/png": "[encoded data removed]",
            "text/plain": [
              "<Figure size 432x288 with 1 Axes>"
            ]
          },
          "metadata": {
            "tags": [],
            "needs_background": "light"
          }
        }
      ]
    },
    {
      "cell_type": "code",
      "metadata": {
        "colab": {
          "base_uri": "https://localhost:8080/"
        },
        "id": "TIYxq9etfNv_",
        "outputId": "083f3201-c76e-4763-9b94-9559ab615c5f"
      },
      "source": [
        "test_data_std = test_data_std.astype(np.float32)\n",
        "test_label = test_label.astype(np.float32)\n",
        "out = net(torch.from_numpy(test_data_std))\n",
        "loss = loss_f(out, torch.from_numpy(test_label.reshape(-1,1)))\n",
        "pre = out.reshape(-1).detach().numpy().round()\n",
        "test_accuracy = np.sum(pre == test_label) / test_label.shape[0]\n",
        "print(round(test_accuracy, 2))"
      ],
      "execution_count": 180,
      "outputs": [
        {
          "output_type": "stream",
          "text": [
            "0.95\n"
          ],
          "name": "stdout"
        }
      ]
    }
  ]
}