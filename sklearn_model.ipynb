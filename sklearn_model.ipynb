{
  "nbformat": 4,
  "nbformat_minor": 0,
  "metadata": {
    "colab": {
      "name": "sklearn.model.ipynb",
      "provenance": []
    },
    "kernelspec": {
      "name": "python3",
      "display_name": "Python 3"
    },
    "language_info": {
      "name": "python"
    },
    "accelerator": "GPU"
  },
  "cells": [
    {
      "cell_type": "code",
      "metadata": {
        "id": "Tb_Lh4dY9cvH"
      },
      "source": [
        "import numpy as np\n",
        "import pandas as pd\n",
        "import matplotlib.pyplot as plt\n",
        "from sklearn.model_selection import train_test_split\n",
        "from sklearn import datasets\n",
        "from sklearn.linear_model import LogisticRegression, LinearRegression\n",
        "from sklearn.preprocessing import StandardScaler\n",
        "from sklearn.metrics import accuracy_score\n",
        "from sklearn.metrics import r2_score"
      ],
      "execution_count": 224,
      "outputs": []
    },
    {
      "cell_type": "code",
      "metadata": {
        "id": "RxRjlzrO9x7m"
      },
      "source": [
        "data_cancer = datasets.load_breast_cancer()\n",
        "data = data_cancer.data\n",
        "label = data_cancer.target\n",
        "train_data, test_data, train_label, test_label = train_test_split(data, label, test_size = 0.25, random_state = 0)\n",
        "sc = StandardScaler()\n",
        "sc.fit(train_data)\n",
        "train_data_std = sc.transform(train_data)\n",
        "test_data_std = sc.transform(test_data)"
      ],
      "execution_count": 225,
      "outputs": []
    },
    {
      "cell_type": "code",
      "metadata": {
        "colab": {
          "base_uri": "https://localhost:8080/"
        },
        "id": "m-2zA1Mv-JJR",
        "outputId": "946d7495-ada3-4777-8350-082405cfd37e"
      },
      "source": [
        "logistic_model = LogisticRegression()\n",
        "logistic_model.fit(train_data_std, train_label)\n",
        "print(logistic_model.score(train_data_std, train_label))\n",
        "print(logistic_model.score(test_data_std, test_label) == accuracy_score(test_label, logistic_model.predict(test_data_std)))"
      ],
      "execution_count": 226,
      "outputs": [
        {
          "output_type": "stream",
          "text": [
            "0.9906103286384976\n",
            "True\n"
          ],
          "name": "stdout"
        }
      ]
    },
    {
      "cell_type": "code",
      "metadata": {
        "colab": {
          "base_uri": "https://localhost:8080/"
        },
        "id": "kz8GUIxe_O97",
        "outputId": "32fc0858-befe-4d4d-a0c8-387fdbf5f75e"
      },
      "source": [
        "# accuracy_score is only used in classification problems, not used in regression problems\n",
        "linear_model = LinearRegression()\n",
        "linear_model.fit(train_data_std, train_label)\n",
        "print(linear_model.score(train_data_std, train_label))\n",
        "print(linear_model.score(test_data_std, test_label))"
      ],
      "execution_count": 227,
      "outputs": [
        {
          "output_type": "stream",
          "text": [
            "0.7824123695930644\n",
            "0.729175870611405\n"
          ],
          "name": "stdout"
        }
      ]
    },
    {
      "cell_type": "code",
      "metadata": {
        "colab": {
          "base_uri": "https://localhost:8080/"
        },
        "id": "euKh0FAbIwud",
        "outputId": "b4407f70-894f-4d90-f5a8-1e658dcf6f02"
      },
      "source": [
        "from sklearn.svm import SVC\n",
        "svm = SVC()\n",
        "svm.fit(train_data_std, train_label)\n",
        "print(svm.score(train_data_std, train_label))\n",
        "print(svm.score(test_data_std, test_label) == accuracy_score(test_label, svm.predict(test_data_std)))\n",
        "# print(np.sum(svm.predict(test_data_std) == test_label)/test_label.shape[0])"
      ],
      "execution_count": 228,
      "outputs": [
        {
          "output_type": "stream",
          "text": [
            "0.9859154929577465\n",
            "True\n"
          ],
          "name": "stdout"
        }
      ]
    },
    {
      "cell_type": "code",
      "metadata": {
        "colab": {
          "base_uri": "https://localhost:8080/"
        },
        "id": "tmE9PC5NJ5Q9",
        "outputId": "a21b7471-219e-4aea-a515-b387d1619087"
      },
      "source": [
        "# decision_tree.score is r2_score, not accuracy_score.\n",
        "from sklearn.tree import DecisionTreeRegressor\n",
        "decision_tree = DecisionTreeRegressor()\n",
        "decision_tree.fit(train_data_std, train_label)\n",
        "print(decision_tree.score(train_data_std, train_label))\n",
        "print(decision_tree.score(test_data_std, test_label))\n",
        "print(r2_score(test_label, decision_tree.predict(test_data_std)))\n",
        "print(accuracy_score(test_label, decision_tree.predict(test_data_std)))\n",
        "print(np.sum(decision_tree.predict(test_data_std) == test_label)/test_label.shape[0])"
      ],
      "execution_count": 229,
      "outputs": [
        {
          "output_type": "stream",
          "text": [
            "1.0\n",
            "0.550314465408805\n",
            "0.550314465408805\n",
            "0.8951048951048951\n",
            "0.8951048951048951\n"
          ],
          "name": "stdout"
        }
      ]
    },
    {
      "cell_type": "code",
      "metadata": {
        "colab": {
          "base_uri": "https://localhost:8080/"
        },
        "id": "Er8EeSRHKKpo",
        "outputId": "13af0a56-6749-49e6-9755-f21e3ee8b42a"
      },
      "source": [
        "# naive_bayes.score is r2_score, not accuracy_score.\n",
        "from sklearn.naive_bayes import GaussianNB\n",
        "naive_bayes = DecisionTreeRegressor()\n",
        "naive_bayes.fit(train_data_std, train_label)\n",
        "print(naive_bayes.score(train_data_std, train_label))\n",
        "print(naive_bayes.score(test_data_std, test_label))\n",
        "print(r2_score(test_label, naive_bayes.predict(test_data_std)))\n",
        "print(accuracy_score(test_label, naive_bayes.predict(test_data_std),sample_weight = None))\n",
        "print(np.sum(naive_bayes.predict(test_data_std) == test_label)/test_label.shape[0])"
      ],
      "execution_count": 230,
      "outputs": [
        {
          "output_type": "stream",
          "text": [
            "1.0\n",
            "0.6702306079664571\n",
            "0.6702306079664571\n",
            "0.9230769230769231\n",
            "0.9230769230769231\n"
          ],
          "name": "stdout"
        }
      ]
    },
    {
      "cell_type": "code",
      "metadata": {
        "colab": {
          "base_uri": "https://localhost:8080/"
        },
        "id": "CfrAPPSxKV16",
        "outputId": "5acdbaba-6ba2-41b3-c6e3-7dc77554e9ed"
      },
      "source": [
        "from sklearn.neighbors import KNeighborsClassifier\n",
        "knn = KNeighborsClassifier(n_neighbors = 3)\n",
        "knn.fit(train_data_std, train_label)\n",
        "print(knn.score(train_data_std, train_label))\n",
        "print(knn.score(test_data_std, test_label) == accuracy_score(test_label, knn.predict(test_data_std)))"
      ],
      "execution_count": 231,
      "outputs": [
        {
          "output_type": "stream",
          "text": [
            "0.9835680751173709\n",
            "True\n"
          ],
          "name": "stdout"
        }
      ]
    }
  ]
}