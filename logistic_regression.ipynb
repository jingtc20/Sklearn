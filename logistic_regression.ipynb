{
  "nbformat": 4,
  "nbformat_minor": 0,
  "metadata": {
    "colab": {
      "name": "logistic_regression.ipynb",
      "provenance": []
    },
    "kernelspec": {
      "name": "python3",
      "display_name": "Python 3"
    },
    "language_info": {
      "name": "python"
    }
  },
  "cells": [
    {
      "cell_type": "code",
      "metadata": {
        "id": "91Sry6GILBoh"
      },
      "source": [
        "from sklearn.datasets import load_breast_cancer\n",
        "import numpy as np\n",
        "import matplotlib.pyplot as plt\n",
        "import pandas as pd"
      ],
      "execution_count": 45,
      "outputs": []
    },
    {
      "cell_type": "code",
      "metadata": {
        "colab": {
          "base_uri": "https://localhost:8080/"
        },
        "id": "NfqV5UgFOWtM",
        "outputId": "20db0357-5b0d-4de2-eb8c-2a15def155fe"
      },
      "source": [
        "data = load_breast_cancer()\n",
        "data.keys()"
      ],
      "execution_count": 46,
      "outputs": [
        {
          "output_type": "execute_result",
          "data": {
            "text/plain": [
              "dict_keys(['data', 'target', 'target_names', 'DESCR', 'feature_names', 'filename'])"
            ]
          },
          "metadata": {
            "tags": []
          },
          "execution_count": 46
        }
      ]
    },
    {
      "cell_type": "code",
      "metadata": {
        "colab": {
          "base_uri": "https://localhost:8080/"
        },
        "id": "B3S7ajuTOtCc",
        "outputId": "e2e44609-b1d1-4f8b-f247-a204e68662d6"
      },
      "source": [
        "print(data.target_names)\n",
        "print(data.data[:5])\n",
        "print(data.target[:5])"
      ],
      "execution_count": 47,
      "outputs": [
        {
          "output_type": "stream",
          "text": [
            "['malignant' 'benign']\n",
            "[[1.799e+01 1.038e+01 1.228e+02 1.001e+03 1.184e-01 2.776e-01 3.001e-01\n",
            "  1.471e-01 2.419e-01 7.871e-02 1.095e+00 9.053e-01 8.589e+00 1.534e+02\n",
            "  6.399e-03 4.904e-02 5.373e-02 1.587e-02 3.003e-02 6.193e-03 2.538e+01\n",
            "  1.733e+01 1.846e+02 2.019e+03 1.622e-01 6.656e-01 7.119e-01 2.654e-01\n",
            "  4.601e-01 1.189e-01]\n",
            " [2.057e+01 1.777e+01 1.329e+02 1.326e+03 8.474e-02 7.864e-02 8.690e-02\n",
            "  7.017e-02 1.812e-01 5.667e-02 5.435e-01 7.339e-01 3.398e+00 7.408e+01\n",
            "  5.225e-03 1.308e-02 1.860e-02 1.340e-02 1.389e-02 3.532e-03 2.499e+01\n",
            "  2.341e+01 1.588e+02 1.956e+03 1.238e-01 1.866e-01 2.416e-01 1.860e-01\n",
            "  2.750e-01 8.902e-02]\n",
            " [1.969e+01 2.125e+01 1.300e+02 1.203e+03 1.096e-01 1.599e-01 1.974e-01\n",
            "  1.279e-01 2.069e-01 5.999e-02 7.456e-01 7.869e-01 4.585e+00 9.403e+01\n",
            "  6.150e-03 4.006e-02 3.832e-02 2.058e-02 2.250e-02 4.571e-03 2.357e+01\n",
            "  2.553e+01 1.525e+02 1.709e+03 1.444e-01 4.245e-01 4.504e-01 2.430e-01\n",
            "  3.613e-01 8.758e-02]\n",
            " [1.142e+01 2.038e+01 7.758e+01 3.861e+02 1.425e-01 2.839e-01 2.414e-01\n",
            "  1.052e-01 2.597e-01 9.744e-02 4.956e-01 1.156e+00 3.445e+00 2.723e+01\n",
            "  9.110e-03 7.458e-02 5.661e-02 1.867e-02 5.963e-02 9.208e-03 1.491e+01\n",
            "  2.650e+01 9.887e+01 5.677e+02 2.098e-01 8.663e-01 6.869e-01 2.575e-01\n",
            "  6.638e-01 1.730e-01]\n",
            " [2.029e+01 1.434e+01 1.351e+02 1.297e+03 1.003e-01 1.328e-01 1.980e-01\n",
            "  1.043e-01 1.809e-01 5.883e-02 7.572e-01 7.813e-01 5.438e+00 9.444e+01\n",
            "  1.149e-02 2.461e-02 5.688e-02 1.885e-02 1.756e-02 5.115e-03 2.254e+01\n",
            "  1.667e+01 1.522e+02 1.575e+03 1.374e-01 2.050e-01 4.000e-01 1.625e-01\n",
            "  2.364e-01 7.678e-02]]\n",
            "[0 0 0 0 0]\n"
          ],
          "name": "stdout"
        }
      ]
    },
    {
      "cell_type": "code",
      "metadata": {
        "colab": {
          "base_uri": "https://localhost:8080/"
        },
        "id": "7b2jPBP7PELq",
        "outputId": "c5beb5c2-e3df-4eb9-b418-b83a6bfe8527"
      },
      "source": [
        "print(data.data.shape)\n",
        "print(\"Number of label 0: \", np.sum(data.target ==0))\n",
        "print(\"Number of label 1: \", np.sum(data.target ==1))"
      ],
      "execution_count": 48,
      "outputs": [
        {
          "output_type": "stream",
          "text": [
            "(569, 30)\n",
            "Number of label 0:  212\n",
            "Number of label 1:  357\n"
          ],
          "name": "stdout"
        }
      ]
    },
    {
      "cell_type": "code",
      "metadata": {
        "id": "MHKNBi5DQsxn"
      },
      "source": [
        "from sklearn.model_selection import train_test_split\n",
        "from sklearn.preprocessing import StandardScaler, MinMaxScaler\n",
        "train_data, test_data, train_label, test_label = train_test_split(data.data, data.target, test_size = 0.25, random_state = 0)\n",
        "# sc = StandardScaler()  # x - mean / std\n",
        "sc = MinMaxScaler()\n",
        "sc.fit(train_data)\n",
        "train_data_std = sc.transform(train_data)\n",
        "test_data_std = sc.transform(test_data)"
      ],
      "execution_count": 49,
      "outputs": []
    },
    {
      "cell_type": "code",
      "metadata": {
        "colab": {
          "base_uri": "https://localhost:8080/"
        },
        "id": "5VCSCCPzR5fW",
        "outputId": "c4ffeab4-b404-4634-c4f5-3a8dd073bfcb"
      },
      "source": [
        "df = pd.DataFrame()\n",
        "df[\"data\"] = data.data.tolist()\n",
        "df[\"target\"] = data.target\n",
        "df.info()"
      ],
      "execution_count": 50,
      "outputs": [
        {
          "output_type": "stream",
          "text": [
            "<class 'pandas.core.frame.DataFrame'>\n",
            "RangeIndex: 569 entries, 0 to 568\n",
            "Data columns (total 2 columns):\n",
            " #   Column  Non-Null Count  Dtype \n",
            "---  ------  --------------  ----- \n",
            " 0   data    569 non-null    object\n",
            " 1   target  569 non-null    int64 \n",
            "dtypes: int64(1), object(1)\n",
            "memory usage: 9.0+ KB\n"
          ],
          "name": "stdout"
        }
      ]
    },
    {
      "cell_type": "code",
      "metadata": {
        "colab": {
          "base_uri": "https://localhost:8080/"
        },
        "id": "RAmcRvJ_RwgG",
        "outputId": "8ac487d7-2e28-428a-d27b-35831533f83f"
      },
      "source": [
        "from sklearn.linear_model import LogisticRegression\n",
        "from sklearn.tree import DecisionTreeClassifier\n",
        "model = DecisionTreeClassifier()\n",
        "# model = LogisticRegression()\n",
        "model.fit(train_data_std, train_label)\n",
        "print(\"Accuracy of the train data: \", model.score(train_data_std, train_label))\n",
        "print(\"Accuracy of the test data: \", model.score(test_data_std, test_label))"
      ],
      "execution_count": 51,
      "outputs": [
        {
          "output_type": "stream",
          "text": [
            "Accuracy of the train data:  1.0\n",
            "Accuracy of the test data:  0.8811188811188811\n"
          ],
          "name": "stdout"
        }
      ]
    },
    {
      "cell_type": "code",
      "metadata": {
        "colab": {
          "base_uri": "https://localhost:8080/"
        },
        "id": "3A5fHpgBTmDA",
        "outputId": "48422f94-f21e-4d4a-8b8b-1f024c357b69"
      },
      "source": [
        "data_0_std = sc.transform(df.data[df.target == 0].tolist())\n",
        "predicted_train_0 = model.predict(data_0_std)\n",
        "print('total number of lable 0: ', df.target[df.target == 0].shape[0])\n",
        "print(\"The accuracy for label 0: \", np.sum(predicted_train_0 == 0) / df.target[df.target == 0].shape[0])\n",
        "\n",
        "data_1_std = sc.transform(df.data[df.target == 1].tolist())\n",
        "predicted_train_1 = model.predict(data_1_std)\n",
        "print('total number of lable 1: ', df.target[df.target == 1].shape[0])\n",
        "print(\"The accuracy for label 1: \", np.sum(predicted_train_1 == 1) / df.target[df.target == 1].shape[0])\n",
        "\n",
        "print(\"Name for label 0: \", data.target_names[0])\n",
        "print(\"Name for label 1: \", data.target_names[1])"
      ],
      "execution_count": 52,
      "outputs": [
        {
          "output_type": "stream",
          "text": [
            "total number of lable 0:  212\n",
            "The accuracy for label 0:  0.9905660377358491\n",
            "total number of lable 1:  357\n",
            "The accuracy for label 1:  0.957983193277311\n",
            "Name for label 0:  malignant\n",
            "Name for label 1:  benign\n"
          ],
          "name": "stdout"
        }
      ]
    },
    {
      "cell_type": "code",
      "metadata": {
        "colab": {
          "base_uri": "https://localhost:8080/"
        },
        "id": "8f-x9ajOXSFM",
        "outputId": "75b46e7a-724a-41ae-d62d-2922180814d5"
      },
      "source": [
        "test_data_0 = test_data_std[test_label == 0]\n",
        "test_data_1 = test_data_std[test_label == 1]\n",
        "print(\"Number for test data: \", test_data.shape[0])\n",
        "print(\"Number for test data in label 0: \", test_data_0.shape[0])\n",
        "print(\"Number for test data in label 1: \", test_data_1.shape[0])"
      ],
      "execution_count": 53,
      "outputs": [
        {
          "output_type": "stream",
          "text": [
            "Number for test data:  143\n",
            "Number for test data in label 0:  53\n",
            "Number for test data in label 1:  90\n"
          ],
          "name": "stdout"
        }
      ]
    },
    {
      "cell_type": "code",
      "metadata": {
        "colab": {
          "base_uri": "https://localhost:8080/"
        },
        "id": "_pahHyvnXptM",
        "outputId": "c4d4b12f-24f5-4a7e-e8a6-d40323c6ae0c"
      },
      "source": [
        "predicted_test_0 = model.predict(test_data_0)\n",
        "predicted_test_1 = model.predict(test_data_1)\n",
        "print(\"Accuracy for the test data in label 0: \", np.sum(predicted_test_0 == 0) / test_data_0.shape[0])\n",
        "print(\"Accuracy for the test data in label 1: \", np.sum(predicted_test_1 == 1) / test_data_1.shape[0])\n",
        "# label 0: 94.34%, label 1: 96.67% for standardscaler\n",
        "# label 0: 88.68%, label 1: 100% for minmaxscaler"
      ],
      "execution_count": 54,
      "outputs": [
        {
          "output_type": "stream",
          "text": [
            "Accuracy for the test data in label 0:  0.9622641509433962\n",
            "Accuracy for the test data in label 1:  0.8333333333333334\n"
          ],
          "name": "stdout"
        }
      ]
    }
  ]
}