{
  "nbformat": 4,
  "nbformat_minor": 0,
  "metadata": {
    "colab": {
      "name": "sklearn_processing.ipynb",
      "provenance": []
    },
    "kernelspec": {
      "name": "python3",
      "display_name": "Python 3"
    },
    "language_info": {
      "name": "python"
    }
  },
  "cells": [
    {
      "cell_type": "code",
      "metadata": {
        "id": "z_W_1AvYnF0r"
      },
      "source": [
        "import pandas as pd\n",
        "import numpy as np\n",
        "from sklearn.preprocessing import StandardScaler, normalize, MinMaxScaler"
      ],
      "execution_count": 118,
      "outputs": []
    },
    {
      "cell_type": "code",
      "metadata": {
        "colab": {
          "base_uri": "https://localhost:8080/",
          "height": 347
        },
        "id": "K9LAe6KNnKC_",
        "outputId": "2fc07e85-2e0f-476e-db55-b3af0ae9ecbb"
      },
      "source": [
        "df = pd.DataFrame()\n",
        "df['x'] = np.arange(5, 15)\n",
        "df['y'] = np.arange(10, 20)\n",
        "df"
      ],
      "execution_count": 119,
      "outputs": [
        {
          "output_type": "execute_result",
          "data": {
            "text/html": [
              "<div>\n",
              "<style scoped>\n",
              "    .dataframe tbody tr th:only-of-type {\n",
              "        vertical-align: middle;\n",
              "    }\n",
              "\n",
              "    .dataframe tbody tr th {\n",
              "        vertical-align: top;\n",
              "    }\n",
              "\n",
              "    .dataframe thead th {\n",
              "        text-align: right;\n",
              "    }\n",
              "</style>\n",
              "<table border=\"1\" class=\"dataframe\">\n",
              "  <thead>\n",
              "    <tr style=\"text-align: right;\">\n",
              "      <th></th>\n",
              "      <th>x</th>\n",
              "      <th>y</th>\n",
              "    </tr>\n",
              "  </thead>\n",
              "  <tbody>\n",
              "    <tr>\n",
              "      <th>0</th>\n",
              "      <td>5</td>\n",
              "      <td>10</td>\n",
              "    </tr>\n",
              "    <tr>\n",
              "      <th>1</th>\n",
              "      <td>6</td>\n",
              "      <td>11</td>\n",
              "    </tr>\n",
              "    <tr>\n",
              "      <th>2</th>\n",
              "      <td>7</td>\n",
              "      <td>12</td>\n",
              "    </tr>\n",
              "    <tr>\n",
              "      <th>3</th>\n",
              "      <td>8</td>\n",
              "      <td>13</td>\n",
              "    </tr>\n",
              "    <tr>\n",
              "      <th>4</th>\n",
              "      <td>9</td>\n",
              "      <td>14</td>\n",
              "    </tr>\n",
              "    <tr>\n",
              "      <th>5</th>\n",
              "      <td>10</td>\n",
              "      <td>15</td>\n",
              "    </tr>\n",
              "    <tr>\n",
              "      <th>6</th>\n",
              "      <td>11</td>\n",
              "      <td>16</td>\n",
              "    </tr>\n",
              "    <tr>\n",
              "      <th>7</th>\n",
              "      <td>12</td>\n",
              "      <td>17</td>\n",
              "    </tr>\n",
              "    <tr>\n",
              "      <th>8</th>\n",
              "      <td>13</td>\n",
              "      <td>18</td>\n",
              "    </tr>\n",
              "    <tr>\n",
              "      <th>9</th>\n",
              "      <td>14</td>\n",
              "      <td>19</td>\n",
              "    </tr>\n",
              "  </tbody>\n",
              "</table>\n",
              "</div>"
            ],
            "text/plain": [
              "    x   y\n",
              "0   5  10\n",
              "1   6  11\n",
              "2   7  12\n",
              "3   8  13\n",
              "4   9  14\n",
              "5  10  15\n",
              "6  11  16\n",
              "7  12  17\n",
              "8  13  18\n",
              "9  14  19"
            ]
          },
          "metadata": {
            "tags": []
          },
          "execution_count": 119
        }
      ]
    },
    {
      "cell_type": "code",
      "metadata": {
        "colab": {
          "base_uri": "https://localhost:8080/"
        },
        "id": "SKPIOIlQoTh6",
        "outputId": "931cdfe1-c060-4e9e-88f7-9fbdcce0fbde"
      },
      "source": [
        "# StandardScaler: the input `x` must be 2D array\n",
        "# reshape the 1D array to 2D array, or write 1D array as `[x]`\n",
        "sc = StandardScaler()\n",
        "x_2D = df['x'].to_numpy().reshape(-1, 1)\n",
        "print(df['x'].shape)\n",
        "print(x_2D.shape)\n",
        "sc.fit(x_2D)\n",
        "x_std = sc.transform(x_2D)\n",
        "x_std"
      ],
      "execution_count": 120,
      "outputs": [
        {
          "output_type": "stream",
          "text": [
            "(10,)\n",
            "(10, 1)\n"
          ],
          "name": "stdout"
        },
        {
          "output_type": "execute_result",
          "data": {
            "text/plain": [
              "array([[-1.5666989 ],\n",
              "       [-1.21854359],\n",
              "       [-0.87038828],\n",
              "       [-0.52223297],\n",
              "       [-0.17407766],\n",
              "       [ 0.17407766],\n",
              "       [ 0.52223297],\n",
              "       [ 0.87038828],\n",
              "       [ 1.21854359],\n",
              "       [ 1.5666989 ]])"
            ]
          },
          "metadata": {
            "tags": []
          },
          "execution_count": 120
        }
      ]
    },
    {
      "cell_type": "code",
      "metadata": {
        "colab": {
          "base_uri": "https://localhost:8080/"
        },
        "id": "iqdAq2PSqQ1E",
        "outputId": "59bf6539-3deb-416e-e986-d7897e660296"
      },
      "source": [
        "# normalize: the input must be 2D array\n",
        "norm = normalize([df['x']])\n",
        "# x_2D = df['x'].to_numpy().reshape(1, -1)\n",
        "# norm = normalize(x_2D)\n",
        "norm"
      ],
      "execution_count": 121,
      "outputs": [
        {
          "output_type": "execute_result",
          "data": {
            "text/plain": [
              "array([[0.15931325, 0.1911759 , 0.22303855, 0.2549012 , 0.28676384,\n",
              "        0.31862649, 0.35048914, 0.38235179, 0.41421444, 0.44607709]])"
            ]
          },
          "metadata": {
            "tags": []
          },
          "execution_count": 121
        }
      ]
    },
    {
      "cell_type": "code",
      "metadata": {
        "colab": {
          "base_uri": "https://localhost:8080/",
          "height": 347
        },
        "id": "BGuU5JtXsazA",
        "outputId": "5c85e0b0-4a75-48c8-cb58-73af3c2f9f13"
      },
      "source": [
        "# axis=1 by default. If axis=0, normalization happens along a column.\n",
        "norm = normalize(df, axis=0)\n",
        "df_norm = pd.DataFrame(norm, columns=df.columns)\n",
        "df_norm"
      ],
      "execution_count": 122,
      "outputs": [
        {
          "output_type": "execute_result",
          "data": {
            "text/html": [
              "<div>\n",
              "<style scoped>\n",
              "    .dataframe tbody tr th:only-of-type {\n",
              "        vertical-align: middle;\n",
              "    }\n",
              "\n",
              "    .dataframe tbody tr th {\n",
              "        vertical-align: top;\n",
              "    }\n",
              "\n",
              "    .dataframe thead th {\n",
              "        text-align: right;\n",
              "    }\n",
              "</style>\n",
              "<table border=\"1\" class=\"dataframe\">\n",
              "  <thead>\n",
              "    <tr style=\"text-align: right;\">\n",
              "      <th></th>\n",
              "      <th>x</th>\n",
              "      <th>y</th>\n",
              "    </tr>\n",
              "  </thead>\n",
              "  <tbody>\n",
              "    <tr>\n",
              "      <th>0</th>\n",
              "      <td>0.159313</td>\n",
              "      <td>0.213931</td>\n",
              "    </tr>\n",
              "    <tr>\n",
              "      <th>1</th>\n",
              "      <td>0.191176</td>\n",
              "      <td>0.235324</td>\n",
              "    </tr>\n",
              "    <tr>\n",
              "      <th>2</th>\n",
              "      <td>0.223039</td>\n",
              "      <td>0.256718</td>\n",
              "    </tr>\n",
              "    <tr>\n",
              "      <th>3</th>\n",
              "      <td>0.254901</td>\n",
              "      <td>0.278111</td>\n",
              "    </tr>\n",
              "    <tr>\n",
              "      <th>4</th>\n",
              "      <td>0.286764</td>\n",
              "      <td>0.299504</td>\n",
              "    </tr>\n",
              "    <tr>\n",
              "      <th>5</th>\n",
              "      <td>0.318626</td>\n",
              "      <td>0.320897</td>\n",
              "    </tr>\n",
              "    <tr>\n",
              "      <th>6</th>\n",
              "      <td>0.350489</td>\n",
              "      <td>0.342290</td>\n",
              "    </tr>\n",
              "    <tr>\n",
              "      <th>7</th>\n",
              "      <td>0.382352</td>\n",
              "      <td>0.363683</td>\n",
              "    </tr>\n",
              "    <tr>\n",
              "      <th>8</th>\n",
              "      <td>0.414214</td>\n",
              "      <td>0.385076</td>\n",
              "    </tr>\n",
              "    <tr>\n",
              "      <th>9</th>\n",
              "      <td>0.446077</td>\n",
              "      <td>0.406469</td>\n",
              "    </tr>\n",
              "  </tbody>\n",
              "</table>\n",
              "</div>"
            ],
            "text/plain": [
              "          x         y\n",
              "0  0.159313  0.213931\n",
              "1  0.191176  0.235324\n",
              "2  0.223039  0.256718\n",
              "3  0.254901  0.278111\n",
              "4  0.286764  0.299504\n",
              "5  0.318626  0.320897\n",
              "6  0.350489  0.342290\n",
              "7  0.382352  0.363683\n",
              "8  0.414214  0.385076\n",
              "9  0.446077  0.406469"
            ]
          },
          "metadata": {
            "tags": []
          },
          "execution_count": 122
        }
      ]
    },
    {
      "cell_type": "code",
      "metadata": {
        "colab": {
          "base_uri": "https://localhost:8080/"
        },
        "id": "MoYttspitTnr",
        "outputId": "731e13fc-2a55-4a7f-b5b4-e84724b2dd66"
      },
      "source": [
        "# MinMaxScaler\n",
        "scaler = MinMaxScaler()\n",
        "x_minmax = scaler.fit_transform(x_2D)\n",
        "x_minmax"
      ],
      "execution_count": 123,
      "outputs": [
        {
          "output_type": "execute_result",
          "data": {
            "text/plain": [
              "array([[0.        ],\n",
              "       [0.11111111],\n",
              "       [0.22222222],\n",
              "       [0.33333333],\n",
              "       [0.44444444],\n",
              "       [0.55555556],\n",
              "       [0.66666667],\n",
              "       [0.77777778],\n",
              "       [0.88888889],\n",
              "       [1.        ]])"
            ]
          },
          "metadata": {
            "tags": []
          },
          "execution_count": 123
        }
      ]
    }
  ]
}